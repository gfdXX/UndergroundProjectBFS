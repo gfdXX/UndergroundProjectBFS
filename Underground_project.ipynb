{
  "cells": [
    {
      "cell_type": "code",
      "execution_count": null,
      "metadata": {
        "id": "QUKN6oZcKj8J"
      },
      "outputs": [],
      "source": [
        "class Vertex:\n",
        "    def __init__(self, name, neighbours=None, weights=None, path_length = 0):\n",
        "        if neighbours is None:\n",
        "            neighbours = []\n",
        "        if weights is None:\n",
        "            weights = []\n",
        "        self.name = name\n",
        "        self.neighbours = neighbours\n",
        "        self.weights = weights\n",
        "        self.path_length = path_length\n",
        "\n",
        "    def AddEdge(self, NeighbouringVertex, weight):\n",
        "        self.neighbours.append(NeighbouringVertex)\n",
        "        NeighbouringVertex.neighbours.append(self)\n",
        "        self.weights.append(weight)\n",
        "        NeighbouringVertex.weights.append(weight)"
      ]
    },
    {
      "cell_type": "code",
      "execution_count": null,
      "metadata": {
        "id": "hd9VMYa7LND3"
      },
      "outputs": [],
      "source": [
        "def InitSubway():\n",
        "  stations = {}\n",
        "  f = open('stations')\n",
        "  for line in range(30):\n",
        "    s = f.readline().split('--')\n",
        "    for i in range(0, len(s)-2, 2):\n",
        "      st1 = s[i].replace('\\n', '')\n",
        "      st2 = s[i+2].replace('\\n', '')\n",
        "      w = int(s[i+1])\n",
        "      if st1 not in stations:\n",
        "        stations[st1] = Vertex(st1)\n",
        "      if st2 not in stations:\n",
        "        stations[st2] = Vertex(st2)\n",
        "      stations[st1].AddEdge(stations[st2], w)\n",
        "  return stations"
      ]
    },
    {
      "cell_type": "code",
      "execution_count": null,
      "metadata": {
        "id": "1NBlS_oaX519"
      },
      "outputs": [],
      "source": [
        "def SetLength(vertexes, weights, visited):\n",
        "    queue = []\n",
        "    new_weigths = []\n",
        "    for vertex, w in zip(vertexes, weights):\n",
        "        if vertex not in visited:\n",
        "            visited.append(vertex)\n",
        "            if vertex.path_length == 0:\n",
        "                vertex.path_length = w\n",
        "            else:\n",
        "                vertex.path_length = min(vertex.path_length, w)\n",
        "            for neighbour, weight in zip(vertex.neighbours, vertex.weights):\n",
        "                queue.append(neighbour)\n",
        "                new_weigths.append(weight + w)\n",
        "    if len(queue) > 0:\n",
        "        SetLength(queue, new_weigths, visited)"
      ]
    },
    {
      "cell_type": "code",
      "execution_count": null,
      "metadata": {
        "id": "dkMSF_rkYo7_"
      },
      "outputs": [],
      "source": [
        "def FindPath(path, start, cur_vertex):\n",
        "    path.append(cur_vertex.name)\n",
        "    if cur_vertex == start:\n",
        "        return\n",
        "    next_vertex = []\n",
        "    for neighbour, weigth in zip(cur_vertex.neighbours, cur_vertex.weights):\n",
        "        if cur_vertex.path_length == neighbour.path_length + weigth:\n",
        "            next_vertex.append(neighbour)\n",
        "            break\n",
        "    FindPath(path, start, next_vertex[0])"
      ]
    },
    {
      "cell_type": "code",
      "execution_count": null,
      "metadata": {
        "id": "KazXHlHXb2C-"
      },
      "outputs": [],
      "source": [
        "def PrintPath(path):\n",
        "  print(' -> '.join(path))"
      ]
    },
    {
      "cell_type": "code",
      "execution_count": null,
      "metadata": {
        "id": "UOmD_v77YGlf"
      },
      "outputs": [],
      "source": [
        "def Clean(head, visited):\n",
        "    visited.append(head)\n",
        "    head.path_length = 0\n",
        "    for neighbour in head.neighbours:\n",
        "        if neighbour not in visited:\n",
        "            Clean(neighbour, visited)"
      ]
    },
    {
      "cell_type": "code",
      "execution_count": null,
      "metadata": {
        "id": "Gqrc48_bYopq"
      },
      "outputs": [],
      "source": [
        "def request(st1, st2):\n",
        "  if st1 in stations and st2 in stations:\n",
        "    start = stations[st1]\n",
        "    finish = stations[st2]\n",
        "  else:\n",
        "    print('Станции не найдены')\n",
        "    return\n",
        "  SetLength([start], [0], [])\n",
        "  path = []\n",
        "  FindPath(path, start, finish)\n",
        "  path.reverse()\n",
        "  print('')\n",
        "  PrintPath(path)\n",
        "  print('Примерное время пути: ' + str(finish.path_length) + ' минут.')\n",
        "  print('')\n",
        "  Clean(start, [])"
      ]
    },
    {
      "cell_type": "code",
      "execution_count": null,
      "metadata": {
        "id": "9bA-BAqFMh0j"
      },
      "outputs": [],
      "source": [
        "stations = InitSubway()"
      ]
    },
    {
      "cell_type": "markdown",
      "metadata": {
        "id": "8ccebKMph9CK"
      },
      "source": [
        "**Запускать здесь:**"
      ]
    },
    {
      "cell_type": "code",
      "execution_count": null,
      "metadata": {
        "colab": {
          "background_save": true,
          "base_uri": "https://localhost:8080/"
        },
        "id": "XPNKkyBWdb7G",
        "outputId": "42d4f181-dced-46d5-e222-2ead00a48cba"
      },
      "outputs": [
        {
          "name": "stdout",
          "output_type": "stream",
          "text": [
            "Станции не найдены\n",
            "\n",
            "Курская (кор) -> Таганская (кор) -> Павелецкая (кор) -> Добрынинская -> Октябрьская (кор)\n",
            "Примерное время пути: 8 минут.\n",
            "\n",
            "Станции не найдены\n",
            "Станции не найдены\n"
          ]
        }
      ],
      "source": [
        "st1 = ' '\n",
        "while st1 != '':\n",
        "  st1 = input('Откуда: ')\n",
        "  st2 = input('Куда: ')\n",
        "  request(st1,st2)"
      ]
    },
    {
      "cell_type": "markdown",
      "metadata": {
        "id": "_TqNrp29hu0S"
      },
      "source": [
        "**Названия станций:**"
      ]
    },
    {
      "cell_type": "code",
      "execution_count": null,
      "metadata": {
        "colab": {
          "base_uri": "https://localhost:8080/"
        },
        "id": "MCSPv7xqhd7X",
        "outputId": "aa423def-d663-4ff8-f1e2-3c255b1e7903"
      },
      "outputs": [
        {
          "name": "stdout",
          "output_type": "stream",
          "text": [
            "Киевская (с)\n",
            "Смоленская (с)\n",
            "Арбатская (с)\n",
            "Площадь Революции\n",
            "Курская (с)\n",
            "Белорусская (з)\n",
            "Маяковская\n",
            "Тверская\n",
            "Театральная\n",
            "Новокузнецкая\n",
            "Павелецкая (з)\n",
            "Проспект Мира (кор)\n",
            "Комсомольская (кор)\n",
            "Курская (кор)\n",
            "Таганская (кор)\n",
            "Павелецкая (кор)\n",
            "Добрынинская\n",
            "Октябрьская (кор)\n",
            "Парк культуры (кор)\n",
            "Киевская (кор)\n",
            "Краснопресненская\n",
            "Белорусская (кор)\n",
            "Новослободская\n",
            "Октябрьская (о)\n",
            "Третьяковская (о)\n",
            "Китай-город (о)\n",
            "Тургеневская\n",
            "Сухаревская\n",
            "Проспект Мира (о)\n",
            "Марксистская\n",
            "Третьяковская (ж)\n",
            "Баррикадная\n",
            "Пушкинская\n",
            "Кузнецкий Мост\n",
            "Китай-город (ф)\n",
            "Таганская (ф)\n",
            "Менделеевская\n",
            "Цветной Бульвар\n",
            "Чеховская\n",
            "Боровицкая\n",
            "Полянка\n",
            "Серпуховская\n",
            "Чкаловская\n",
            "Сретенский Бульвар\n",
            "Трубная\n",
            "Александровский сад\n",
            "Арбатская (г)\n",
            "Смоленская (г)\n",
            "Киевская (г)\n",
            "Парк культуры (к)\n",
            "Кропоткинская\n",
            "Библиотека им. Ленина\n",
            "Охотный Ряд\n",
            "Лубянка\n",
            "Чистые пруды\n",
            "Красные Ворота\n",
            "Комсомольская (к)\n",
            "Третьяковская (o)\n"
          ]
        }
      ],
      "source": [
        "for (a,b) in stations.items():\n",
        "  print(a)"
      ]
    }
  ],
  "metadata": {
    "colab": {
      "provenance": []
    },
    "kernelspec": {
      "display_name": "Python 3",
      "name": "python3"
    },
    "language_info": {
      "name": "python"
    }
  },
  "nbformat": 4,
  "nbformat_minor": 0
}